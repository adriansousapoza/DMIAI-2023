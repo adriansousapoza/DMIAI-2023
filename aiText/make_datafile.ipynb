{
 "cells": [
  {
   "cell_type": "code",
   "execution_count": 3,
   "metadata": {},
   "outputs": [],
   "source": [
    "import os\n",
    "import sys\n",
    "\n",
    "import numpy as np\n",
    "import pandas as pd\n",
    "from scipy.stats import norm\n",
    "import matplotlib.pyplot as plt\n",
    "\n",
    "\n",
    "import nltk\n",
    "import random\n",
    "import re\n",
    "\n",
    "# Download NLTK resources (if not downloaded)\n",
    "nltk.download('punkt')\n",
    "\n",
    "from utils import *"
   ]
  },
  {
   "cell_type": "code",
   "execution_count": 28,
   "metadata": {},
   "outputs": [],
   "source": [
    "# generate csv data file for each label\n",
    "dir_data = 'C:\\\\Users\\\\Simon Andersen\\\\Projects\\\\Projects\\\\DMIAI_2023\\\\aiText\\\\data'\n",
    "dir_human = 'C:\\\\Users\\\\Simon Andersen\\\\Projects\\\\Projects\\\\DMIAI_2023\\\\aiText\\\\data\\\\heste-nettet-nyheder'\n",
    "dir_ai4 = 'C:\\\\Users\\\\Simon Andersen\\\\Projects\\\\Projects\\\\DMIAI_2023\\\\aiText\\\\data\\\\heste-nettet-nyheder-ai\\\\gpt-4-0613'\n",
    "dir_ai3 = 'C:\\\\Users\\\\Simon Andersen\\\\Projects\\\\Projects\\\\DMIAI_2023\\\\aiText\\\\data\\\\heste-nettet-nyheder-ai\\\\gpt-3.5-turbo'\n",
    "\n",
    "\n",
    "# find all subdirectories and subsubdirectories\n",
    "dir_paths = [os.path.join(dir_data, f) for f in os.listdir(dir_data) if os.path.isdir(os.path.join(dir_data, f))][:-1]\n",
    "\n",
    "# add subdirectories not already in dir_paths\n",
    "dirs_to_pop = []\n",
    "for dir_path in dir_paths:\n",
    "    sub_dir_paths = [os.path.join(dir_path, f) for f in os.listdir(dir_path) if os.path.isdir(os.path.join(dir_path, f))]\n",
    "\n",
    "    if len(sub_dir_paths) > 0:\n",
    "        dir_paths.extend(sub_dir_paths) \n",
    "        dirs_to_pop.append(dir_path)\n",
    "\n",
    "for dir_to_pop in dirs_to_pop:\n",
    "    dir_paths.remove(dir_to_pop)\n",
    "\n",
    "dirs_human = dir_paths[:2]\n",
    "dirs_ai = dir_paths[2:]\n"
   ]
  },
  {
   "cell_type": "code",
   "execution_count": 36,
   "metadata": {},
   "outputs": [
    {
     "name": "stdout",
     "output_type": "stream",
     "text": [
      "Number of human files: 1380\n",
      "Number of ai files: 1380\n"
     ]
    }
   ],
   "source": [
    "# find all txt files in the directory\n",
    "paths_human = []\n",
    "paths_ai = []\n",
    "for dir_hum, dir_ai in zip(dirs_human,dirs_ai):\n",
    "    paths_human.extend(find_txt_files(dir_hum))\n",
    "    paths_ai.extend(find_txt_files(dir_ai))\n",
    "\n",
    "Nai = len(paths_ai)\n",
    "Nhuman = len(paths_human)\n",
    "\n",
    "paths_human = paths_human[:Nai]\n",
    "Nhuman = len(paths_human)   \n",
    "print(f\"Number of human files: {Nhuman}\")\n",
    "print(f\"Number of ai files: {Nai}\")"
   ]
  },
  {
   "cell_type": "code",
   "execution_count": 33,
   "metadata": {},
   "outputs": [],
   "source": [
    "text_human = read_human_files(paths_human)\n",
    "text_ai = read_files(paths_ai, line_start = 3)\n"
   ]
  },
  {
   "cell_type": "code",
   "execution_count": 37,
   "metadata": {},
   "outputs": [],
   "source": [
    "# create a dataframe with the text and label (human = 0 or ai = 1) for each text list\n",
    "df_human = pd.DataFrame({'text': text_human, 'label': [0]*len(text_human)})\n",
    "df_ai = pd.DataFrame({'text': text_ai, 'label': [1]*len(text_ai)})\n",
    "\n",
    "df= pd.concat([df_human, df_ai], ignore_index=True)\n",
    "\n",
    "# shuffle the dataframe\n",
    "df = df.sample(frac=1, random_state=42).reset_index(drop=True)\n",
    "\n",
    "# save the dataframe as a csv file\n",
    "df.to_csv('data.csv', index=False)"
   ]
  },
  {
   "cell_type": "code",
   "execution_count": 46,
   "metadata": {},
   "outputs": [],
   "source": [
    "# Approximate the sentence length distribution of the validation set\n",
    "def len_dist(mean, std):\n",
    "    positive = False\n",
    "    while not positive:\n",
    "        length = int(norm(mean, std).rvs())\n",
    "        if length > 1:\n",
    "            positive = True\n",
    "    return length"
   ]
  },
  {
   "cell_type": "code",
   "execution_count": 47,
   "metadata": {},
   "outputs": [],
   "source": [
    "# Provide the path to your text file\n",
    "text_file_path = ['brevkasse.txt', 'news2.txt', 'public_information.txt']\n",
    "base_path = os.path.splitext(text_file_path)[0]"
   ]
  },
  {
   "cell_type": "code",
   "execution_count": 47,
   "metadata": {},
   "outputs": [
    {
     "name": "stdout",
     "output_type": "stream",
     "text": [
      "Number of strings: 193\n",
      "Number of strings: 214\n",
      "Number of strings: 96\n"
     ]
    }
   ],
   "source": [
    "# Provide the path to text files\n",
    "text_file_paths = ['brevkasse.txt', 'news2.txt', 'public_information.txt']\n",
    "# Construct the generator\n",
    "rvs_generator = lambda: len_dist(4, 3)\n",
    "\n",
    "for text_file_path in text_file_paths:\n",
    "    base_path = base_path = os.path.splitext(text_file_path)[0]\n",
    "\n",
    "    # Get the list of strings\n",
    "    resulting_strings = split_text_into_strings(text_file_path, rvs_generator)\n",
    "    df_str = pd.DataFrame({'text': resulting_strings})\n",
    "    df_str.to_csv(f'{base_path}.csv', index=False)\n",
    "\n",
    "    print(f\"Number of strings: {len(resulting_strings)}\")\n",
    "\n",
    "    if 0:\n",
    "        # Print the resulting strings\n",
    "        for i, string in enumerate(resulting_strings, 1):\n",
    "            print(f\"String {i}:\")\n",
    "            print(string)\n",
    "            print(\"\\n\" + \"=\" * 50 + \"\\n\")"
   ]
  }
 ],
 "metadata": {
  "kernelspec": {
   "display_name": "BigData",
   "language": "python",
   "name": "python3"
  },
  "language_info": {
   "codemirror_mode": {
    "name": "ipython",
    "version": 3
   },
   "file_extension": ".py",
   "mimetype": "text/x-python",
   "name": "python",
   "nbconvert_exporter": "python",
   "pygments_lexer": "ipython3",
   "version": "3.10.12"
  }
 },
 "nbformat": 4,
 "nbformat_minor": 2
}
