{
 "cells": [
  {
   "cell_type": "code",
   "execution_count": 1,
   "metadata": {},
   "outputs": [
    {
     "name": "stderr",
     "output_type": "stream",
     "text": [
      "[nltk_data] Downloading package punkt to C:\\Users\\Simon\n",
      "[nltk_data]     Andersen\\AppData\\Roaming\\nltk_data...\n",
      "[nltk_data]   Package punkt is already up-to-date!\n",
      "[nltk_data] Downloading package punkt to C:\\Users\\Simon\n",
      "[nltk_data]     Andersen\\AppData\\Roaming\\nltk_data...\n",
      "[nltk_data]   Package punkt is already up-to-date!\n"
     ]
    }
   ],
   "source": [
    "import os\n",
    "import sys\n",
    "\n",
    "import numpy as np\n",
    "import pandas as pd\n",
    "from scipy.stats import norm\n",
    "import matplotlib.pyplot as plt\n",
    "\n",
    "\n",
    "import nltk\n",
    "import random\n",
    "import re\n",
    "\n",
    "# Download NLTK resources (if not downloaded)\n",
    "nltk.download('punkt')\n",
    "\n",
    "from utils import *"
   ]
  },
  {
   "cell_type": "code",
   "execution_count": 29,
   "metadata": {},
   "outputs": [],
   "source": [
    "# generate csv data file for each label\n",
    "dir_data = 'C:\\\\Users\\\\Simon Andersen\\\\Projects\\\\Projects\\\\DMIAI_2023\\\\aiText\\\\data'\n",
    "exclude = ['cleaned', 'scrape']\n",
    "# find all subdirectories and subsubdirectories\n",
    "dir_paths = [os.path.join(dir_data, f) for f in os.listdir(dir_data) if os.path.isdir(os.path.join(dir_data, f))]\n",
    "\n",
    "# add subdirectories not already in dir_paths\n",
    "dirs_to_pop = []\n",
    "for dir_path in dir_paths:\n",
    "    sub_dir_paths = [os.path.join(dir_path, f) for f in os.listdir(dir_path)\\\n",
    "                      if os.path.isdir(os.path.join(dir_path, f))]\n",
    "\n",
    "    if len(sub_dir_paths) > 0:\n",
    "        dir_paths.extend(sub_dir_paths) \n",
    "        dirs_to_pop.append(dir_path)\n",
    "\n",
    "for dir_to_pop in dirs_to_pop:\n",
    "    dir_paths.remove(dir_to_pop)\n",
    "\n",
    "# remove directories that are not to be included\n",
    "pop_list = []\n",
    "for dir_path in dir_paths:\n",
    "    for exc in exclude:\n",
    "        if dir_path.endswith(exc):\n",
    "            pop_list.append(dir_path)\n",
    "            break\n",
    "for pop in pop_list:\n",
    "    dir_paths.remove(pop)   \n",
    "\n"
   ]
  },
  {
   "cell_type": "code",
   "execution_count": 31,
   "metadata": {},
   "outputs": [
    {
     "data": {
      "text/plain": [
       "['C:\\\\Users\\\\Simon Andersen\\\\Projects\\\\Projects\\\\DMIAI_2023\\\\aiText\\\\data\\\\brevkasse',\n",
       " 'C:\\\\Users\\\\Simon Andersen\\\\Projects\\\\Projects\\\\DMIAI_2023\\\\aiText\\\\data\\\\from_big_data_file',\n",
       " 'C:\\\\Users\\\\Simon Andersen\\\\Projects\\\\Projects\\\\DMIAI_2023\\\\aiText\\\\data\\\\heste-nettet-nyheder',\n",
       " 'C:\\\\Users\\\\Simon Andersen\\\\Projects\\\\Projects\\\\DMIAI_2023\\\\aiText\\\\data\\\\journalistik_interview',\n",
       " 'C:\\\\Users\\\\Simon Andersen\\\\Projects\\\\Projects\\\\DMIAI_2023\\\\aiText\\\\data\\\\public_information',\n",
       " 'C:\\\\Users\\\\Simon Andersen\\\\Projects\\\\Projects\\\\DMIAI_2023\\\\aiText\\\\data\\\\brevkasse_ai\\\\gpt-3.5-turbo-0613',\n",
       " 'C:\\\\Users\\\\Simon Andersen\\\\Projects\\\\Projects\\\\DMIAI_2023\\\\aiText\\\\data\\\\from_big_data_file_ai\\\\gpt-3.5-turbo',\n",
       " 'C:\\\\Users\\\\Simon Andersen\\\\Projects\\\\Projects\\\\DMIAI_2023\\\\aiText\\\\data\\\\from_big_data_file_ai\\\\gpt-3.5-turbo-0613',\n",
       " 'C:\\\\Users\\\\Simon Andersen\\\\Projects\\\\Projects\\\\DMIAI_2023\\\\aiText\\\\data\\\\heste-nettet-nyheder-ai\\\\gpt-3.5-turbo',\n",
       " 'C:\\\\Users\\\\Simon Andersen\\\\Projects\\\\Projects\\\\DMIAI_2023\\\\aiText\\\\data\\\\heste-nettet-nyheder-ai\\\\gpt-4-0613',\n",
       " 'C:\\\\Users\\\\Simon Andersen\\\\Projects\\\\Projects\\\\DMIAI_2023\\\\aiText\\\\data\\\\journalistik_interview_ai\\\\gpt-3.5-turbo-0613',\n",
       " 'C:\\\\Users\\\\Simon Andersen\\\\Projects\\\\Projects\\\\DMIAI_2023\\\\aiText\\\\data\\\\public_information_ai\\\\gpt-3.5-turbo-0613']"
      ]
     },
     "execution_count": 31,
     "metadata": {},
     "output_type": "execute_result"
    }
   ],
   "source": [
    "dir_paths"
   ]
  },
  {
   "cell_type": "code",
   "execution_count": 32,
   "metadata": {},
   "outputs": [],
   "source": [
    "ai_endswith = ['ai', 'turbo', '0613']\n",
    "\n",
    "dirs_ai = []\n",
    "dirs_human = []\n",
    "for dir_path in dir_paths:\n",
    "    for end in ai_endswith:\n",
    "        if dir_path.endswith(end):\n",
    "            dirs_ai.append(dir_path)\n",
    "            break\n",
    "    if dir_path not in dirs_ai:\n",
    "        dirs_human.append(dir_path)\n",
    "            "
   ]
  },
  {
   "cell_type": "code",
   "execution_count": 35,
   "metadata": {},
   "outputs": [
    {
     "name": "stdout",
     "output_type": "stream",
     "text": [
      "Number of human files: 6104\n",
      "Number of ai files: 6104\n"
     ]
    }
   ],
   "source": [
    "# find all txt files in the directory\n",
    "paths_human = []\n",
    "paths_ai = []\n",
    "for dir_hum, dir_ai in zip(dirs_human,dirs_ai):\n",
    "    paths_human.extend(find_txt_files(dir_hum))\n",
    "    paths_ai.extend(find_txt_files(dir_ai))\n",
    "\n",
    "Nai = len(paths_ai)\n",
    "Nhuman = len(paths_human)\n",
    "\n",
    "paths_human = paths_human[:Nai]\n",
    "Nhuman = len(paths_human)   \n",
    "print(f\"Number of human files: {Nhuman}\")\n",
    "print(f\"Number of ai files: {Nai}\")"
   ]
  },
  {
   "cell_type": "code",
   "execution_count": 36,
   "metadata": {},
   "outputs": [],
   "source": [
    "text_human = read_human_files(paths_human)\n",
    "text_ai = read_files(paths_ai, line_start = 3)\n"
   ]
  },
  {
   "cell_type": "code",
   "execution_count": 39,
   "metadata": {},
   "outputs": [],
   "source": [
    "# create a dataframe with the text and label (human = 0 or ai = 1) for each text list\n",
    "df_human = pd.DataFrame({'text': text_human, 'label': [0]*len(text_human)})\n",
    "df_ai = pd.DataFrame({'text': text_ai, 'label': [1]*len(text_ai)})\n",
    "\n",
    "df= pd.concat([df_human, df_ai], ignore_index=True)\n",
    "\n",
    "# shuffle the dataframe\n",
    "df = df.sample(frac=1, random_state=42).reset_index(drop=True)\n",
    "\n",
    "text = df['text'].astype(str)\n",
    "labels = df['label'].astype(int)\n",
    "\n",
    "df = pd.DataFrame({'text': text, 'label': labels})\n",
    "\n",
    "# remove \\n from text\n",
    "df['text'] = df['text'].apply(lambda x: re.sub(r'\\n', ' ', x))\n",
    "# remove \\u200b\\u200b from text\n",
    "df['text'] = df['text'].apply(lambda x: re.sub(r'\\u200b\\u200b', ' ', x))\n",
    "# remove \\\\\\x00 from text (also if it occurs more than once)\n",
    "df['text'] = df['text'].apply(lambda x: re.sub(r'\\\\\\x00', ' ', x))\n",
    "\n",
    "# save the dataframe as a csv file\n",
    "df.to_csv('data_processed\\\\data_all.csv', index=False)"
   ]
  }
 ],
 "metadata": {
  "kernelspec": {
   "display_name": "BigData",
   "language": "python",
   "name": "python3"
  },
  "language_info": {
   "codemirror_mode": {
    "name": "ipython",
    "version": 3
   },
   "file_extension": ".py",
   "mimetype": "text/x-python",
   "name": "python",
   "nbconvert_exporter": "python",
   "pygments_lexer": "ipython3",
   "version": "3.10.12"
  }
 },
 "nbformat": 4,
 "nbformat_minor": 2
}
