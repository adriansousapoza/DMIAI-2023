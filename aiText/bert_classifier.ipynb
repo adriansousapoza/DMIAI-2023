{
 "cells": [
  {
   "cell_type": "markdown",
   "metadata": {},
   "source": [
    "# AI-text-detector"
   ]
  },
  {
   "cell_type": "code",
   "execution_count": 50,
   "metadata": {},
   "outputs": [],
   "source": [
    "from transformers import BertTokenizer, BertForSequenceClassification\n",
    "import torch\n",
    "import numpy as np\n",
    "import seaborn as sns\n",
    "from torch.utils.data import DataLoader, Dataset\n",
    "\n",
    "from sklearn.model_selection import train_test_split\n",
    "import matplotlib.pyplot as plt\n",
    "\n",
    "# optim\n",
    "import torch.optim as optim"
   ]
  },
  {
   "cell_type": "markdown",
   "metadata": {},
   "source": [
    "## Training"
   ]
  },
  {
   "cell_type": "code",
   "execution_count": 51,
   "metadata": {},
   "outputs": [
    {
     "name": "stderr",
     "output_type": "stream",
     "text": [
      "Some weights of BertForSequenceClassification were not initialized from the model checkpoint at bert-base-multilingual-cased and are newly initialized: ['classifier.weight', 'classifier.bias']\n",
      "You should probably TRAIN this model on a down-stream task to be able to use it for predictions and inference.\n"
     ]
    },
    {
     "name": "stdout",
     "output_type": "stream",
     "text": [
      "\n",
      "    Info table:\n",
      "    +----------------+---------+---------+-------+\n",
      "    |                | Training| Testing | Total\n",
      "    +----------------+---------+---------+-------+\n",
      "    | Total samples  |     940 |     236 |    1176 |\n",
      "    | Pos. samples   |     134 |      33 |     167 |  (AI generated)\n",
      "    | Neg. samples   |     806 |     203 |    1009 |  (Human written)\n",
      "    \n"
     ]
    }
   ],
   "source": [
    "# load texts and labels\n",
    "def load_data():\n",
    "\n",
    "    import os\n",
    "\n",
    "    data = {\n",
    "        'human': [],\n",
    "        'bot': []\n",
    "    }\n",
    "\n",
    "    for filename in os.listdir('data/heste-nettet-nyheder'):\n",
    "        with open('data/heste-nettet-nyheder/' + filename, 'r', encoding='utf-8') as f:\n",
    "            content = f.read()\n",
    "            text = '\\n'.join(content.split('\\n')[2:])\n",
    "            data['human'].append(text)\n",
    "\n",
    "    for filename in os.listdir('data/heste-nettet-nyheder-ai/gpt-3.5-turbo/'):\n",
    "        with open('data/heste-nettet-nyheder-ai/gpt-3.5-turbo/' + filename, 'r', encoding='utf-8') as f:\n",
    "            content = f.read()\n",
    "            text = '\\n'.join(content.split('\\n')[2:])\n",
    "            data['bot'].append(text)\n",
    "\n",
    "    my_texts = np.array(data['human'] + data['bot'])\n",
    "    my_labels = np.array([0]*len(data['human']) + [1]*len(data['bot'])) \n",
    "    \n",
    "\n",
    "    return list(my_texts), my_labels\n",
    "\n",
    "def preprocess(text):\n",
    "    inputs = tokenizer(text, padding=True, truncation=True, max_length=512, return_tensors=\"pt\")\n",
    "    return inputs\n",
    "\n",
    "class TextDataset(Dataset):\n",
    "    def __init__(self, texts, labels):\n",
    "        self.texts = texts\n",
    "        self.labels = labels\n",
    "        self.inputs = preprocess(texts)\n",
    "\n",
    "        # dict_keys(['input_ids', 'token_type_ids', 'attention_mask'])\n",
    "        self.input_ids = self.inputs['input_ids']\n",
    "        self.attention_mask = self.inputs['attention_mask']\n",
    "\n",
    "    def __len__(self):\n",
    "        return len(self.texts)\n",
    "\n",
    "    def __getitem__(self, idx):\n",
    "        text = self.texts[idx]\n",
    "        label = self.labels[idx]\n",
    "        input_ids = self.input_ids[idx]\n",
    "        attention_mask = self.attention_mask[idx]\n",
    "\n",
    "        return {\n",
    "            # 'text': text,\n",
    "            'label': label,\n",
    "            'input_ids': input_ids,\n",
    "            'attention_mask': attention_mask\n",
    "        }\n",
    "\n",
    "model_name = \"bert-base-multilingual-cased\"  # or another model suitable for Danish\n",
    "tokenizer = BertTokenizer.from_pretrained(model_name)\n",
    "model = BertForSequenceClassification.from_pretrained(model_name)\n",
    "\n",
    "texts, labels = load_data()\n",
    "texts_train, texts_test, labels_train, labels_test = train_test_split(texts, labels, test_size=0.2)\n",
    "\n",
    "dataset_train = TextDataset(texts_train, labels_train)\n",
    "dataloader_train = DataLoader(dataset_train, batch_size=32, shuffle=True)\n",
    "\n",
    "dataset_test = TextDataset(texts_test, labels_test)\n",
    "dataloader_test = DataLoader(dataset_test, batch_size=32, shuffle=True)\n",
    "\n",
    "\n",
    "# print table summary with total samples in each dataset, positive samples, and negative samples\n",
    "def pretty_print_info_table(labels_train, labels_test):\n",
    "    data_for_table = {\n",
    "        'train': {\n",
    "            'total': len(labels_train),\n",
    "            'pos': np.sum(labels_train),\n",
    "            'neg': len(labels_train) - np.sum(labels_train)\n",
    "        },\n",
    "        'test': {\n",
    "            'total': len(labels_test),\n",
    "            'pos': np.sum(labels_test),\n",
    "            'neg': len(labels_test) - np.sum(labels_test)\n",
    "        }\n",
    "    }\n",
    "    data_for_table['total'] = {\n",
    "        'total': data_for_table['train']['total'] + data_for_table['test']['total'],\n",
    "        'pos': data_for_table['train']['pos'] + data_for_table['test']['pos'],\n",
    "        'neg': data_for_table['train']['neg'] + data_for_table['test']['neg']\n",
    "    }\n",
    "\n",
    "    print(\"\"\"\n",
    "    Info table:\n",
    "    +----------------+---------+---------+-------+\n",
    "    |                | Training| Testing | Total\n",
    "    +----------------+---------+---------+-------+\n",
    "    | Total samples  | {:7d} | {:7d} | {:7d} |\n",
    "    | Pos. samples   | {:7d} | {:7d} | {:7d} |  (AI generated)\n",
    "    | Neg. samples   | {:7d} | {:7d} | {:7d} |  (Human written)\n",
    "    \"\"\".format(\n",
    "        data_for_table['train']['total'],\n",
    "        data_for_table['test']['total'],\n",
    "        data_for_table['total']['total'],\n",
    "        data_for_table['train']['pos'],\n",
    "        data_for_table['test']['pos'],\n",
    "        data_for_table['total']['pos'],\n",
    "        data_for_table['train']['neg'],\n",
    "        data_for_table['test']['neg'],\n",
    "        data_for_table['total']['neg'],\n",
    "        \n",
    "        ))\n",
    "\n",
    "pretty_print_info_table(labels_train, labels_test)\n",
    "\n",
    "# weight for positive class\n",
    "weight_pos = len(texts_train) / (2 * np.sum(labels_train))\n",
    "# weight for negative class\n",
    "weight_neg = len(texts_train) / (2 * (len(texts_train) - np.sum(labels_train)))\n",
    "# class weights\n",
    "class_weights = torch.tensor([weight_neg, weight_pos])\n",
    "\n",
    "# the class weights are defined, but im unsure how to apply them as the loss function is incooperated in the forward pass of the model, so i will just balance the dataset instead.\n"
   ]
  },
  {
   "cell_type": "code",
   "execution_count": 52,
   "metadata": {},
   "outputs": [
    {
     "name": "stdout",
     "output_type": "stream",
     "text": [
      "Using device: mps\n",
      "Epoch 0 loss: 0.0146058034389577\n",
      "Epoch 0 test loss: 0.010669170547339875\n",
      "Epoch 1 loss: 0.006993990328083647\n",
      "Epoch 1 test loss: 0.004454486924460379\n",
      "Epoch 2 loss: 0.003763064872869786\n",
      "Epoch 2 test loss: 0.0031277355501207254\n",
      "Epoch 3 loss: 0.0020997075433347454\n",
      "Epoch 3 test loss: 0.004017492779925213\n",
      "Epoch 4 loss: 0.0007934799204838086\n",
      "Epoch 4 test loss: 0.0009096783859126459\n",
      "Epoch 5 loss: 0.0004674234189727205\n",
      "Epoch 5 test loss: 0.0028621166908987246\n",
      "Epoch 6 loss: 0.00012630233516361804\n",
      "Epoch 6 test loss: 0.000183215719485908\n",
      "Epoch 7 loss: 8.464512610907091e-05\n",
      "Epoch 7 test loss: 0.00030068304415366027\n",
      "Epoch 8 loss: 6.303256885346738e-05\n",
      "Epoch 8 test loss: 0.0002441666847671051\n",
      "Epoch 9 loss: 4.947176896669763e-05\n",
      "Epoch 9 test loss: 0.000227395102028514\n",
      "Epoch 10 loss: 4.1903035735037733e-05\n",
      "Epoch 10 test loss: 0.000284532638033852\n",
      "Epoch 11 loss: 3.585219928162529e-05\n",
      "Epoch 11 test loss: 0.00027836774775789956\n",
      "Epoch 12 loss: 3.1208838930630934e-05\n",
      "Epoch 12 test loss: 0.00018565851052575823\n",
      "Epoch 13 loss: 2.840406445915157e-05\n",
      "Epoch 13 test loss: 0.00013294249331041917\n",
      "Epoch 14 loss: 2.5217411754791564e-05\n",
      "Epoch 14 test loss: 0.00013581083661292568\n",
      "Epoch 15 loss: 2.3093483685713976e-05\n",
      "Epoch 15 test loss: 0.00010065581776316168\n",
      "Epoch 16 loss: 2.038859591343777e-05\n",
      "Epoch 16 test loss: 6.841124941583059e-05\n",
      "Epoch 17 loss: 1.9152848077244423e-05\n",
      "Epoch 17 test loss: 5.9055506796339306e-05\n",
      "Epoch 18 loss: 1.75605244139467e-05\n",
      "Epoch 18 test loss: 4.809595579360375e-05\n",
      "Epoch 19 loss: 1.6099095042359006e-05\n",
      "Epoch 19 test loss: 4.729188009859773e-05\n"
     ]
    },
    {
     "data": {
      "text/plain": [
       "Text(0, 0.5, 'Loss')"
      ]
     },
     "execution_count": 52,
     "metadata": {},
     "output_type": "execute_result"
    },
    {
     "data": {
      "image/png": "[encoded data removed]",
      "text/plain": [
       "<Figure size 1000x500 with 1 Axes>"
      ]
     },
     "metadata": {},
     "output_type": "display_data"
    }
   ],
   "source": [
    "# Assume you're using a GPU for training\n",
    "device = torch.device(\"mps\" if torch.has_mps else \"cpu\")\n",
    "print(\"Using device:\", device)\n",
    "model.to(device)\n",
    "\n",
    "# Training loop\n",
    "from transformers import AdamW\n",
    "optimizer = optim.AdamW(model.parameters(), lr=1e-5)\n",
    "\n",
    "# early stopping\n",
    "def early_stopping(losses, patience=3):\n",
    "    if len(losses) < patience:\n",
    "        return False\n",
    "    return losses[-1] > losses[-2] > losses[-3]\n",
    "\n",
    "losses = {'train': [], 'test': []}\n",
    "num_epochs = 20\n",
    "for epoch in range(num_epochs):\n",
    "    model.train()\n",
    "    # Train\n",
    "    loss_total_train = 0\n",
    "    for i, batch in enumerate(dataloader_train):\n",
    "        input_ids = batch['input_ids'].to(device)\n",
    "        attention_mask = batch['attention_mask'].to(device)\n",
    "        labels = batch['label'].to(device)\n",
    "\n",
    "\n",
    "        optimizer.zero_grad()\n",
    "        outputs = model(input_ids, attention_mask=attention_mask, labels=labels)\n",
    "        #rint(outputs)\n",
    "        loss = outputs.loss\n",
    "        loss.backward()\n",
    "        optimizer.step()\n",
    "        loss_total_train += loss.item()\n",
    "\n",
    "    print(f\"Epoch {epoch} loss: {loss_total_train / len(dataset_train)}\")\n",
    "    losses['train'].append(loss_total_train / len(dataset_train))\n",
    "\n",
    "    # Test\n",
    "    model.eval()\n",
    "    loss_total_test = 0\n",
    "    with torch.no_grad():\n",
    "        for i, batch in enumerate(dataloader_test):\n",
    "            input_ids = batch['input_ids'].to(device)\n",
    "            attention_mask = batch['attention_mask'].to(device)\n",
    "            labels = batch['label'].to(device)\n",
    "\n",
    "            outputs = model(input_ids, attention_mask=attention_mask, labels=labels)\n",
    "            loss = outputs.loss\n",
    "            loss_total_test += loss.item()\n",
    "\n",
    "    print(f\"Epoch {epoch} test loss: {loss_total_test / len(dataset_test)}\")\n",
    "    losses['test'].append(loss_total_test / len(dataset_test))\n",
    "\n",
    "    if early_stopping(losses['test']):\n",
    "        print(\"Early stopping\")\n",
    "        break\n",
    "\n",
    "# Save the model\n",
    "model.save_pretrained(\"models/bert_classifier\", save_function=torch.save)\n",
    "\n",
    "# Plot the losses\n",
    "plt.figure(figsize=(10, 5))\n",
    "plt.plot(losses['train'], label='train')\n",
    "plt.plot(losses['test'], label='test')\n",
    "plt.legend()\n",
    "plt.xlabel('Epoch')\n",
    "plt.ylabel('Loss')\n"
   ]
  },
  {
   "cell_type": "markdown",
   "metadata": {},
   "source": [
    "## Model Validation"
   ]
  },
  {
   "cell_type": "code",
   "execution_count": 53,
   "metadata": {},
   "outputs": [
    {
     "name": "stdout",
     "output_type": "stream",
     "text": [
      "              precision    recall  f1-score   support\n",
      "\n",
      "           0       1.00      1.00      1.00       203\n",
      "           1       1.00      1.00      1.00        33\n",
      "\n",
      "    accuracy                           1.00       236\n",
      "   macro avg       1.00      1.00      1.00       236\n",
      "weighted avg       1.00      1.00      1.00       236\n",
      "\n"
     ]
    },
    {
     "data": {
      "text/plain": [
       "Text(0.5, 1.0, 'Confusion matrix for BERT detector, for detecting AI generated texts')"
      ]
     },
     "execution_count": 53,
     "metadata": {},
     "output_type": "execute_result"
    },
    {
     "data": {
      "image/png": "[encoded data removed]",
      "text/plain": [
       "<Figure size 500x500 with 1 Axes>"
      ]
     },
     "metadata": {},
     "output_type": "display_data"
    }
   ],
   "source": [
    "# Evaluate the model\n",
    "from sklearn.metrics import classification_report, confusion_matrix\n",
    "\n",
    "model.eval()\n",
    "predictions = []\n",
    "true_labels = []\n",
    "with torch.no_grad():\n",
    "    for i, batch in enumerate(dataloader_test):\n",
    "        input_ids = batch['input_ids'].to(device)\n",
    "        attention_mask = batch['attention_mask'].to(device)\n",
    "        labels = batch['label'].to(device)\n",
    "\n",
    "        outputs = model(input_ids, attention_mask=attention_mask)\n",
    "        logits = outputs.logits\n",
    "        predictions.extend(logits.argmax(dim=1).cpu().numpy())\n",
    "        true_labels.extend(labels.cpu().numpy())\n",
    "\n",
    "print(classification_report(true_labels, predictions))\n",
    "\n",
    "# Confusion matrix\n",
    "cm = confusion_matrix(true_labels, predictions)\n",
    "cm = cm.astype('float') / cm.sum(axis=1)[:, np.newaxis]\n",
    "\n",
    "plt.figure(figsize=(5, 5))\n",
    "plt.imshow(cm, cmap=plt.cm.RdBu, alpha=.7 )\n",
    "\n",
    "for i in range(cm.shape[0]):\n",
    "    for j in range(cm.shape[1]):\n",
    "        plt.text(j, i, \"{:.5f}\".format(cm[i, j]), horizontalalignment=\"center\")\n",
    "\n",
    "plt.xticks([0, 1], ['human', 'bot'])\n",
    "plt.yticks([0, 1], ['human', 'bot'])\n",
    "plt.xlabel(\"Predicted\")\n",
    "plt.ylabel(\"True\")\n",
    "plt.title(\"Confusion matrix for BERT detector, for detecting AI generated texts\")"
   ]
  },
  {
   "cell_type": "markdown",
   "metadata": {},
   "source": [
    "## Model Application"
   ]
  },
  {
   "cell_type": "code",
   "execution_count": 54,
   "metadata": {},
   "outputs": [],
   "source": [
    "# load my model\n",
    "from transformers import BertForSequenceClassification\n",
    "model = BertForSequenceClassification.from_pretrained(\"models/bert_classifier\")\n",
    "model.to(device);"
   ]
  },
  {
   "cell_type": "code",
   "execution_count": 55,
   "metadata": {},
   "outputs": [
    {
     "name": "stdout",
     "output_type": "stream",
     "text": [
      "tensor([[ 3.3534, -3.1860]], device='mps:0')\n",
      "0\n"
     ]
    }
   ],
   "source": [
    "# test\n",
    "test_string = \"This is a test\"\n",
    "\n",
    "model.eval()    \n",
    "with torch.no_grad():\n",
    "    inputs = preprocess(test_string)\n",
    "    input_ids = inputs['input_ids'].squeeze(1).to(device)\n",
    "    attention_mask = inputs['attention_mask'].squeeze(1).to(device)\n",
    "    outputs = model(input_ids, attention_mask=attention_mask)\n",
    "    logits = outputs.logits\n",
    "    print(logits)\n",
    "    print(torch.argmax(logits).item())"
   ]
  },
  {
   "cell_type": "markdown",
   "metadata": {},
   "source": [
    "## Ftitting it into router format"
   ]
  },
  {
   "cell_type": "code",
   "execution_count": 56,
   "metadata": {},
   "outputs": [
    {
     "name": "stdout",
     "output_type": "stream",
     "text": [
      "0\n"
     ]
    }
   ],
   "source": [
    "# to fit into the pipeline i need to make a predict function\n",
    "\n",
    "def predict(text):\n",
    "    model.eval()    \n",
    "    with torch.no_grad():\n",
    "        inputs = preprocess(text)\n",
    "        input_ids = inputs['input_ids'].squeeze(1).to(device)\n",
    "        attention_mask = inputs['attention_mask'].squeeze(1).to(device)\n",
    "        outputs = model(input_ids, attention_mask=attention_mask)\n",
    "        logits = outputs.logits\n",
    "        return torch.argmax(logits).item()\n",
    "\n",
    "# test\n",
    "test_string = \"This is a test\"\n",
    "print(predict(test_string))"
   ]
  }
 ],
 "metadata": {
  "kernelspec": {
   "display_name": "t2mENV",
   "language": "python",
   "name": "python3"
  },
  "language_info": {
   "codemirror_mode": {
    "name": "ipython",
    "version": 3
   },
   "file_extension": ".py",
   "mimetype": "text/x-python",
   "name": "python",
   "nbconvert_exporter": "python",
   "pygments_lexer": "ipython3",
   "version": "3.9.18"
  }
 },
 "nbformat": 4,
 "nbformat_minor": 2
}
