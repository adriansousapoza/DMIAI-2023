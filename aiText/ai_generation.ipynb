{
 "cells": [
  {
   "cell_type": "code",
   "execution_count": 14,
   "metadata": {},
   "outputs": [
    {
     "data": {
      "text/plain": [
       "True"
      ]
     },
     "execution_count": 14,
     "metadata": {},
     "output_type": "execute_result"
    }
   ],
   "source": [
    "\n",
    "\n",
    "\n"
   ]
  },
  {
   "cell_type": "code",
   "execution_count": 15,
   "metadata": {},
   "outputs": [],
   "source": [
    "from openai import OpenAI\n",
    "import os\n",
    "import dotenv\n",
    "#load .env file\n",
    "dotenv.load_dotenv()\n",
    "OPENAI_API_KEY = os.getenv(\"OPENAI_API_KEY\")\n",
    "client = OpenAI(api_key=os.getenv(\"OPENAI_API_KEY\"))\n",
    "\n",
    "def get_ai_article(title, model=\"gpt-3.5-turbo\"):\n",
    "    completion = client.chat.completions.create(\n",
    "    model=model,\n",
    "    messages=[\n",
    "        {\"role\": \"system\", \"content\": \"Du skriver korte artikler i stil med forum / nyheder / blogindlæg. De skal være på dansk. Brugeren vil give dig en titel og du skal skrive en artikel på 100-200 ord.\"},\n",
    "        {\"role\": \"user\", \"content\": \"Her er titlen: \" + title}\n",
    "    ]\n",
    "    )\n",
    "\n",
    "    return completion.choices[0].message.content\n",
    "\n",
    "def save(model, article_path, title, response):\n",
    "\n",
    "    # save to file\n",
    "    out_path = os.path.join(\"data/heste-nettet-nyheder-ai/\",model, os.path.basename(article_path))\n",
    "\n",
    "    # save as title\\n model\\n text\n",
    "    with open(out_path, \"w\") as f:\n",
    "        f.write(title + \"\\n\")\n",
    "        f.write(model + \"\\n\")\n",
    "        f.write(response)"
   ]
  },
  {
   "cell_type": "code",
   "execution_count": 3,
   "metadata": {},
   "outputs": [
    {
     "name": "stdout",
     "output_type": "stream",
     "text": [
      "Australier fører vesteuropæisk liga \t 2016-12-12T01:15:01\n"
     ]
    },
    {
     "ename": "NameError",
     "evalue": "name 'get_ai_article' is not defined",
     "output_type": "error",
     "traceback": [
      "\u001b[0;31m---------------------------------------------------------------------------\u001b[0m",
      "\u001b[0;31mNameError\u001b[0m                                 Traceback (most recent call last)",
      "\u001b[1;32m/Users/tonton/Documents/DMIAI23/aiText/ai_generation.ipynb Cell 3\u001b[0m line \u001b[0;36m2\n\u001b[1;32m     <a href='vscode-notebook-cell:/Users/tonton/Documents/DMIAI23/aiText/ai_generation.ipynb#W2sZmlsZQ%3D%3D?line=15'>16</a>\u001b[0m text \u001b[39m=\u001b[39m article\u001b[39m.\u001b[39msplit(\u001b[39m\"\u001b[39m\u001b[39m\\n\u001b[39;00m\u001b[39m\"\u001b[39m)[\u001b[39m2\u001b[39m:]\n\u001b[1;32m     <a href='vscode-notebook-cell:/Users/tonton/Documents/DMIAI23/aiText/ai_generation.ipynb#W2sZmlsZQ%3D%3D?line=17'>18</a>\u001b[0m \u001b[39mprint\u001b[39m(title, \u001b[39m'\u001b[39m\u001b[39m\\t\u001b[39;00m\u001b[39m'\u001b[39m, date)\n\u001b[0;32m---> <a href='vscode-notebook-cell:/Users/tonton/Documents/DMIAI23/aiText/ai_generation.ipynb#W2sZmlsZQ%3D%3D?line=19'>20</a>\u001b[0m response \u001b[39m=\u001b[39m get_ai_article(title, model\u001b[39m=\u001b[39mmodel)\n\u001b[1;32m     <a href='vscode-notebook-cell:/Users/tonton/Documents/DMIAI23/aiText/ai_generation.ipynb#W2sZmlsZQ%3D%3D?line=21'>22</a>\u001b[0m save(model, article_path, title, response)\n",
      "\u001b[0;31mNameError\u001b[0m: name 'get_ai_article' is not defined"
     ]
    }
   ],
   "source": [
    "article_paths = [os.path.join(\"data/heste-nettet-nyheder/\", f) for f in os.listdir(\"data/heste-nettet-nyheder/\") if f.endswith(\".txt\")]\n",
    "\n",
    "model=\"gpt-3.5-turbo\"\n",
    "for article_path in article_paths:\n",
    "    out_path = os.path.join(\"data/heste-nettet-nyheder-ai/\",model, os.path.basename(article_path))\n",
    "\n",
    "    if os.path.exists(out_path):\n",
    "        print(\"Already done\", out_path)\n",
    "        continue\n",
    "\n",
    "\n",
    "    with open(article_path) as f:\n",
    "        article = f.read()\n",
    "    title = article.split(\"\\n\")[0]\n",
    "    date = article.split(\"\\n\")[1]\n",
    "    text = article.split(\"\\n\")[2:]\n",
    "\n",
    "    print(title, '\\t', date)\n",
    "\n",
    "    response = get_ai_article(title, model=model)\n",
    "\n",
    "    save(model, article_path, title, response)"
   ]
  },
  {
   "cell_type": "code",
   "execution_count": null,
   "metadata": {},
   "outputs": [],
   "source": []
  }
 ],
 "metadata": {
  "kernelspec": {
   "display_name": "t2mENV",
   "language": "python",
   "name": "python3"
  },
  "language_info": {
   "codemirror_mode": {
    "name": "ipython",
    "version": 3
   },
   "file_extension": ".py",
   "mimetype": "text/x-python",
   "name": "python",
   "nbconvert_exporter": "python",
   "pygments_lexer": "ipython3",
   "version": "3.9.18"
  }
 },
 "nbformat": 4,
 "nbformat_minor": 2
}
