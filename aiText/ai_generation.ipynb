{
 "cells": [
  {
   "cell_type": "code",
   "execution_count": 43,
   "metadata": {},
   "outputs": [],
   "source": [
    "from openai import OpenAI\n",
    "import os\n",
    "import dotenv\n",
    "#load .env file\n",
    "dotenv.load_dotenv()\n",
    "OPENAI_API_KEY = os.getenv(\"OPENAI_API_KEY\")\n",
    "client = OpenAI(api_key=os.getenv(\"OPENAI_API_KEY\"))\n",
    "\n",
    "def get_ai_article(title, model=\"gpt-3.5-turbo\"):\n",
    "    completion = client.chat.completions.create(\n",
    "    model=model,\n",
    "    messages=[\n",
    "        {\"role\": \"system\", \"content\": \"Skriv om følgende artikel (på dansk)\"},\n",
    "        {\"role\": \"user\", \"content\": title}\n",
    "    ]\n",
    "    )\n",
    "\n",
    "    return completion.choices[0].message.content\n",
    "\n",
    "def save(model, article_path, title, response):\n",
    "\n",
    "    # save to file\n",
    "    out_path = os.path.join(\"data/heste-nettet-nyheder-ai/\",model, os.path.basename(article_path))\n",
    "\n",
    "    # save as title\\n model\\n text\n",
    "    with open(out_path, \"w\") as f:\n",
    "        f.write(title + \"\\n\")\n",
    "        f.write(model + \"\\n\")\n",
    "        f.write(response)"
   ]
  },
  {
   "cell_type": "code",
   "execution_count": 45,
   "metadata": {},
   "outputs": [
    {
     "name": "stdout",
     "output_type": "stream",
     "text": [
      "7393.txt Reportage fra Kaukasus: Se de smukke Karbardinerheste   Equipage \t 2011-02-08T11:45:08\n",
      "10974.txt Nyt håb for cancer-heste \t 2014-09-11T20:48:03\n",
      "8936.txt Storløb blev i familien  \t 2012-05-22T07:00:01\n",
      "9396.txt Web-Tv: Annika og Carolines PL-beretning \t 2012-09-14T19:59:06\n",
      "8088.txt Sadeltyve på spil \t 2011-09-26T13:45:14\n",
      "10784.txt Hestekunst og hestekunster på Vilhelmsborg \t 2014-06-19T23:19:52\n",
      "10948.txt Elitefølauktion: Rekordpris til gangartsfænomen \t 2014-08-31T13:43:20\n",
      "10790.txt Heste der taber sig i sommervarmen \t 2014-07-03T21:09:44\n",
      "9382.txt 160.000 for dyreste føl på Eliteauktionen \t 2012-09-09T08:26:42\n",
      "8922.txt Sensationel dansk 2. plads i Nations Cup \t 2012-05-18T23:58:13\n",
      "10579.txt Atterupgaards Seebach 4-års dressurfløjhingst \t 2014-03-09T13:22:52\n",
      "7620.txt Hingsteshow hos Helgstrand Dressage \t 2011-04-17T10:07:34\n",
      "8513.txt Giv en ung en oplevelse for livet! \t 2012-01-31T20:52:30\n",
      "7634.txt Kæmpe opbakning til Han Herreds Hestesportsklub fra ryttere og lokalsamfund \t 2011-04-22T21:23:54\n",
      "8507.txt Gandur i Sverige inviterer til firmakeppni og islandshestens dag \t 2012-01-30T16:06:11\n",
      "9619.txt Ponylandstræner i dressur søges \t 2012-12-12T13:52:33\n",
      "8261.txt 18. december \t 2011-12-18T00:15:01\n",
      "9157.txt Danmarksmester i 4.1 til DM Sport Islandshest \t 2012-07-08T10:39:13\n",
      "8249.txt 6. december \t 2011-12-06T00:15:01\n",
      "10545.txt A-finalen i T1 - resultater og vinder   Reportage \t 2014-02-22T20:51:50\n"
     ]
    }
   ],
   "source": [
    "article_paths = [os.path.join(\"data/heste-nettet-nyheder/\", f) for f in os.listdir(\"data/heste-nettet-nyheder/\") if f.endswith(\".txt\")]\n",
    "\n",
    "model=\"gpt-3.5-turbo\"\n",
    "for article_path in article_paths:\n",
    "    out_path = os.path.join(\"data/heste-nettet-nyheder-ai/\",model, os.path.basename(article_path))\n",
    "\n",
    "    if os.path.exists(out_path):\n",
    "        #print(\"Already done\", out_path)\n",
    "        continue\n",
    "\n",
    "    \n",
    "    with open(article_path) as f:\n",
    "        article = f.read()\n",
    "    title = article.split(\"\\n\")[0]\n",
    "    date = article.split(\"\\n\")[1]\n",
    "    text = article.split(\"\\n\")[2:]\n",
    "\n",
    "    print(os.path.basename(article_path), title, '\\t', date)\n",
    "\n",
    "    response = get_ai_article(title, model=model)\n",
    "\n",
    "    save(model, article_path, title, response)"
   ]
  },
  {
   "cell_type": "code",
   "execution_count": null,
   "metadata": {},
   "outputs": [],
   "source": []
  }
 ],
 "metadata": {
  "kernelspec": {
   "display_name": "t2mENV",
   "language": "python",
   "name": "python3"
  },
  "language_info": {
   "codemirror_mode": {
    "name": "ipython",
    "version": 3
   },
   "file_extension": ".py",
   "mimetype": "text/x-python",
   "name": "python",
   "nbconvert_exporter": "python",
   "pygments_lexer": "ipython3",
   "version": "3.9.18"
  }
 },
 "nbformat": 4,
 "nbformat_minor": 2
}
