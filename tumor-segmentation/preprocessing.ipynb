{
 "cells": [
  {
   "cell_type": "code",
   "execution_count": 1,
   "metadata": {},
   "outputs": [
    {
     "name": "stdout",
     "output_type": "stream",
     "text": [
      "\u001b[01;34mdata\u001b[0m\n",
      "├── \u001b[01;34mcontrols\u001b[0m\n",
      "│   ├── \u001b[01;34mimgs\u001b[0m\n",
      "│   └── \u001b[01;34mlabels\u001b[0m\n",
      "└── \u001b[01;34mpatients\u001b[0m\n",
      "    ├── \u001b[01;34mimgs\u001b[0m\n",
      "    └── \u001b[01;34mlabels\u001b[0m\n",
      "\n",
      "6 directories\n"
     ]
    }
   ],
   "source": [
    "import os\n",
    "import torch\n",
    "from torch.utils.data import random_split\n",
    "import torchio as tio\n",
    "from pathlib import Path\n",
    "import importlib\n",
    "from utils import validate_segmentation, plot_prediction, dice_score\n",
    "\n",
    "\n",
    "import torchio_utils\n",
    "importlib.reload(torchio_utils)\n",
    "from torchio_utils import torchio_compose_train, plot_example\n",
    "\n",
    "\n",
    "#check if colab is being used\n",
    "if os.path.exists('/content'):\n",
    "    print('Running on CoLab')\n",
    "    from google.colab import drive\n",
    "    drive.mount('/content/drive')\n",
    "    torch.cuda.empty_cache()\n",
    "\n",
    "dataset_path = 'data.zip'\n",
    "dataset_dir_name = 'data'\n",
    "dataset_dir = Path(dataset_dir_name)\n",
    "\n",
    "if not dataset_dir.is_dir():\n",
    "    !curl --silent --output {dataset_path} --location {dataset_url} \n",
    "    !unzip -qq {dataset_path}\n",
    "!tree -d {dataset_dir_name}"
   ]
  },
  {
   "cell_type": "code",
   "execution_count": 2,
   "metadata": {},
   "outputs": [
    {
     "name": "stdout",
     "output_type": "stream",
     "text": [
      "Found 182 subjects\n",
      "Saving 182 subjects to nnUNet_raw/Dataset002...\n"
     ]
    },
    {
     "name": "stderr",
     "output_type": "stream",
     "text": [
      "100%|██████████| 182/182 [00:20<00:00,  8.90it/s]\n"
     ]
    },
    {
     "name": "stdout",
     "output_type": "stream",
     "text": [
      "Augmenting dataset with 892 subjects\n"
     ]
    },
    {
     "name": "stderr",
     "output_type": "stream",
     "text": [
      "  0%|          | 3/892 [00:01<09:43,  1.52it/s]/home/asp/anaconda3/lib/python3.11/site-packages/torchio/transforms/transform.py:163: RuntimeWarning: Input image is 2D, but \"2\" is in axes: (0, 1, 2)\n",
      "  transformed = self.apply_transform(subject)\n",
      "100%|██████████| 892/892 [07:42<00:00,  1.93it/s]\n"
     ]
    },
    {
     "name": "stdout",
     "output_type": "stream",
     "text": [
      "Adding 426 control subjects\n"
     ]
    },
    {
     "name": "stderr",
     "output_type": "stream",
     "text": [
      "100%|██████████| 426/426 [00:00<00:00, 26270.29it/s]\n"
     ]
    },
    {
     "name": "stdout",
     "output_type": "stream",
     "text": [
      "Saving 1500 controls to nnUNet_raw/Dataset002...\n"
     ]
    },
    {
     "name": "stderr",
     "output_type": "stream",
     "text": [
      "100%|██████████| 426/426 [00:51<00:00,  8.30it/s]\n"
     ]
    },
    {
     "data": {
      "text/plain": [
       "True"
      ]
     },
     "execution_count": 2,
     "metadata": {},
     "output_type": "execute_result"
    }
   ],
   "source": [
    "images_dir = dataset_dir / 'patients/imgs'\n",
    "labels_dir = dataset_dir / 'patients/labels'\n",
    "controls_dir = dataset_dir / 'controls/imgs'\n",
    "image_paths = sorted(images_dir.glob('*.png'))\n",
    "label_paths = sorted(labels_dir.glob('*.png'))\n",
    "control_paths = sorted(controls_dir.glob('*.png'))\n",
    "\n",
    "torchio_compose_train(image_paths, label_paths, control_paths, \n",
    "                                cropsize=(400,991),\n",
    "                                save_inverted_imgs=False,\n",
    "                                hist_standardization=True,\n",
    "                                train_size = 1500,\n",
    "                                include_controls = True,\n",
    "                                dataset_ID=2)\n"
   ]
  }
 ],
 "metadata": {
  "kernelspec": {
   "display_name": "base",
   "language": "python",
   "name": "python3"
  },
  "language_info": {
   "codemirror_mode": {
    "name": "ipython",
    "version": 3
   },
   "file_extension": ".py",
   "mimetype": "text/x-python",
   "name": "python",
   "nbconvert_exporter": "python",
   "pygments_lexer": "ipython3",
   "version": "3.11.5"
  }
 },
 "nbformat": 4,
 "nbformat_minor": 2
}
