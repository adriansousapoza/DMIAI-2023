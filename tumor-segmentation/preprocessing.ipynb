{
 "cells": [
  {
   "cell_type": "code",
   "execution_count": 1,
   "metadata": {},
   "outputs": [
    {
     "name": "stdout",
     "output_type": "stream",
     "text": [
      "\u001b[01;34mdata\u001b[0m\n",
      "├── \u001b[01;34mcontrols\u001b[0m\n",
      "│   └── \u001b[01;34mimgs\u001b[0m\n",
      "└── \u001b[01;34mpatients\u001b[0m\n",
      "    ├── \u001b[01;34mimgs\u001b[0m\n",
      "    └── \u001b[01;34mlabels\u001b[0m\n",
      "\n",
      "5 directories\n"
     ]
    }
   ],
   "source": [
    "import os\n",
    "import torch\n",
    "from torch.utils.data import random_split\n",
    "import torchio as tio\n",
    "from pathlib import Path\n",
    "import importlib\n",
    "from utils import validate_segmentation, plot_prediction, dice_score\n",
    "\n",
    "\n",
    "import torchio_utils\n",
    "importlib.reload(torchio_utils)\n",
    "from torchio_utils import torchio_compose_train, plot_example\n",
    "\n",
    "\n",
    "#check if colab is being used\n",
    "if os.path.exists('/content'):\n",
    "    print('Running on CoLab')\n",
    "    from google.colab import drive\n",
    "    drive.mount('/content/drive')\n",
    "    torch.cuda.empty_cache()\n",
    "\n",
    "dataset_path = 'data.zip'\n",
    "dataset_dir_name = 'data'\n",
    "dataset_dir = Path(dataset_dir_name)\n",
    "\n",
    "if not dataset_dir.is_dir():\n",
    "    !curl --silent --output {dataset_path} --location {dataset_url} \n",
    "    !unzip -qq {dataset_path}\n",
    "!tree -d {dataset_dir_name}"
   ]
  },
  {
   "cell_type": "code",
   "execution_count": 2,
   "metadata": {},
   "outputs": [
    {
     "name": "stdout",
     "output_type": "stream",
     "text": [
      "Found 182 subjects\n"
     ]
    },
    {
     "data": {
      "application/vnd.jupyter.widget-view+json": {
       "model_id": "4f95d0d41c344e83a6ca14636ea7de70",
       "version_major": 2,
       "version_minor": 0
      },
      "text/plain": [
       "  0%|          | 0/182 [00:00<?, ?it/s]"
      ]
     },
     "metadata": {},
     "output_type": "display_data"
    },
    {
     "name": "stdout",
     "output_type": "stream",
     "text": [
      "Landmarks: [0.00000000e+00 0.00000000e+00 0.00000000e+00 0.00000000e+00\n",
      " 0.00000000e+00 4.30941607e-02 6.18978200e-01 9.21611583e+00\n",
      " 1.72437721e+01 2.07211576e+01 2.52754195e+01 4.02824372e+01\n",
      " 1.00000000e+02]\n",
      "Saving 182 subjects to nnUNet_raw/Dataset001...\n"
     ]
    },
    {
     "name": "stderr",
     "output_type": "stream",
     "text": [
      "100%|██████████| 182/182 [00:22<00:00,  8.16it/s]\n"
     ]
    },
    {
     "name": "stdout",
     "output_type": "stream",
     "text": [
      "Augmenting 818 subjects\n"
     ]
    },
    {
     "name": "stderr",
     "output_type": "stream",
     "text": [
      "  1%|          | 6/818 [00:02<04:31,  2.99it/s]/home/asp/anaconda3/lib/python3.11/site-packages/torchio/transforms/transform.py:163: RuntimeWarning: Input image is 2D, but \"2\" is in axes: (0, 1, 2)\n",
      "  transformed = self.apply_transform(subject)\n",
      "100%|██████████| 818/818 [06:48<00:00,  2.00it/s]\n"
     ]
    },
    {
     "data": {
      "text/plain": [
       "True"
      ]
     },
     "execution_count": 2,
     "metadata": {},
     "output_type": "execute_result"
    }
   ],
   "source": [
    "images_dir = dataset_dir / 'patients/imgs'\n",
    "labels_dir = dataset_dir / 'patients/labels'\n",
    "controls_dir = dataset_dir / 'controls/imgs'\n",
    "image_paths = sorted(images_dir.glob('*.png'))\n",
    "label_paths = sorted(labels_dir.glob('*.png'))\n",
    "control_paths = sorted(controls_dir.glob('*.png'))\n",
    "\n",
    "torchio_compose_train(image_paths, label_paths, control_paths, \n",
    "                                cropsize=(400,991),\n",
    "                                save_inverted_imgs=False,\n",
    "                                hist_standardization=True,\n",
    "                                train_size = 1000,\n",
    "                                dataset_ID=1)\n",
    "\n",
    "\n"
   ]
  }
 ],
 "metadata": {
  "kernelspec": {
   "display_name": "base",
   "language": "python",
   "name": "python3"
  },
  "language_info": {
   "codemirror_mode": {
    "name": "ipython",
    "version": 3
   },
   "file_extension": ".py",
   "mimetype": "text/x-python",
   "name": "python",
   "nbconvert_exporter": "python",
   "pygments_lexer": "ipython3",
   "version": "3.11.5"
  }
 },
 "nbformat": 4,
 "nbformat_minor": 2
}
