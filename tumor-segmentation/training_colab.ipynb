{
 "cells": [
  {
   "cell_type": "code",
   "execution_count": 6,
   "metadata": {},
   "outputs": [],
   "source": [
    "colab = False\n",
    "\n",
    "if colab == True:\n",
    "    !pip install nnunetv2\n",
    "    !pip install torchio\n",
    "    !git clone https://github.com/MIC-DKFZ/nnUNet.git\n",
    "    !git clone https://github.com/NVIDIA/apex"
   ]
  },
  {
   "cell_type": "code",
   "execution_count": 7,
   "metadata": {},
   "outputs": [
    {
     "name": "stdout",
     "output_type": "stream",
     "text": [
      "\u001b[01;34mdata\u001b[0m\n",
      "├── \u001b[01;34mcontrols\u001b[0m\n",
      "│   └── \u001b[01;34mimgs\u001b[0m\n",
      "└── \u001b[01;34mpatients\u001b[0m\n",
      "    ├── \u001b[01;34mimgs\u001b[0m\n",
      "    └── \u001b[01;34mlabels\u001b[0m\n",
      "\n",
      "5 directories\n"
     ]
    }
   ],
   "source": [
    "import os\n",
    "import torch\n",
    "from torch.utils.data import random_split\n",
    "import torchio as tio\n",
    "from pathlib import Path\n",
    "import importlib\n",
    "from utils import validate_segmentation, plot_prediction, dice_score\n",
    "import shutil\n",
    "from collections import OrderedDict\n",
    "import json\n",
    "import numpy as np\n",
    "import nnunetv2\n",
    "\n",
    "import torchio_utils\n",
    "importlib.reload(torchio_utils)\n",
    "from torchio_utils import torchio_compose_train, plot_example\n",
    "\n",
    "if colab:\n",
    "    from google.colab import drive\n",
    "    drive.flush_and_unmount()\n",
    "    drive.mount('/content/drive', force_remount=True)\n",
    "    root_dir = '/content/drive/My Drive/tumor-segmentation'\n",
    "    torch.cuda.empty_cache()\n",
    "\n",
    "    training_size =1000\n",
    "\n",
    "else:\n",
    "    training_size = 200\n",
    "\n",
    "path_to_mask = 'data/patients/labels/'\n",
    "path_to_imgs = 'data/patients/imgs/'\n",
    "path_to_controls = 'data/controls/imgs/' #healthy individuals (no tumors)\n",
    "dataset_path = 'data.zip'\n",
    "dataset_dir_name = 'data'\n",
    "dataset_dir = Path(dataset_dir_name)\n",
    "\n",
    "if not dataset_dir.is_dir():\n",
    "    !curl --silent --output {dataset_path} --location {dataset_url}\n",
    "    !unzip -qq {dataset_path}\n",
    "!tree -d {dataset_dir_name}"
   ]
  },
  {
   "cell_type": "code",
   "execution_count": 8,
   "metadata": {},
   "outputs": [
    {
     "name": "stdout",
     "output_type": "stream",
     "text": [
      "Found 182 subjects\n"
     ]
    },
    {
     "data": {
      "application/vnd.jupyter.widget-view+json": {
       "model_id": "aee4e6185c1849f298cc0fd6926eec67",
       "version_major": 2,
       "version_minor": 0
      },
      "text/plain": [
       "  0%|          | 0/181 [00:00<?, ?it/s]"
      ]
     },
     "metadata": {},
     "output_type": "display_data"
    },
    {
     "name": "stdout",
     "output_type": "stream",
     "text": [
      "Landmarks: [0.00000000e+00 0.00000000e+00 0.00000000e+00 0.00000000e+00\n",
      " 0.00000000e+00 4.33322500e-02 6.22397969e-01 9.23236779e+00\n",
      " 1.72545437e+01 2.07381415e+01 2.53002322e+01 4.03121636e+01\n",
      " 1.00000000e+02]\n"
     ]
    },
    {
     "name": "stderr",
     "output_type": "stream",
     "text": [
      "/home/asp/anaconda3/lib/python3.11/site-packages/torchio/transforms/transform.py:163: RuntimeWarning: Input image is 2D, but \"2\" is in axes: (0, 1, 2)\n",
      "  transformed = self.apply_transform(subject)\n"
     ]
    }
   ],
   "source": [
    "images_dir = dataset_dir / 'patients/imgs'\n",
    "labels_dir = dataset_dir / 'patients/labels'\n",
    "controls_dir = dataset_dir / 'controls/imgs'\n",
    "image_paths = sorted(images_dir.glob('*.png'))\n",
    "label_paths = sorted(labels_dir.glob('*.png'))\n",
    "control_paths = sorted(controls_dir.glob('*.png'))\n",
    "\n",
    "dataset = torchio_compose_train(image_paths, label_paths, control_paths, \n",
    "                                cropsize=(400,991), train_size = training_size,\n",
    "                                save_training_dataset = True)"
   ]
  },
  {
   "cell_type": "code",
   "execution_count": 11,
   "metadata": {},
   "outputs": [
    {
     "name": "stdout",
     "output_type": "stream",
     "text": [
      "/home/asp/anaconda3/bin/python: symbol lookup error: /home/asp/anaconda3/lib/python3.11/site-packages/mkl/../../../libmkl_intel_thread.so.2: undefined symbol: omp_get_num_procs\n"
     ]
    }
   ],
   "source": [
    "!nnUNetv2_plan_and_preprocess -d nnUNet_raw --verify_dataset_integrity"
   ]
  }
 ],
 "metadata": {
  "kernelspec": {
   "display_name": "base",
   "language": "python",
   "name": "python3"
  },
  "language_info": {
   "codemirror_mode": {
    "name": "ipython",
    "version": 3
   },
   "file_extension": ".py",
   "mimetype": "text/x-python",
   "name": "python",
   "nbconvert_exporter": "python",
   "pygments_lexer": "ipython3",
   "version": "3.11.5"
  }
 },
 "nbformat": 4,
 "nbformat_minor": 2
}
